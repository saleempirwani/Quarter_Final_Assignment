{
 "cells": [
  {
   "cell_type": "markdown",
   "metadata": {},
   "source": [
    "#  Assignment: Quarter's Final Assignment\n",
    "# Student: Muhammad Saleem Raza\n",
    "# Rollno: AIC000616\n",
    "# Teacher: Engg. Muhammad Qasim\n",
    "# Ta: Hamza, Mansoor ...\n",
    "# Location: Sindh Boys Scout (6:45 - 9:45)"
   ]
  },
  {
   "cell_type": "markdown",
   "metadata": {},
   "source": [
    "# 1_Calculate Area of a Circle"
   ]
  },
  {
   "cell_type": "code",
   "execution_count": 1,
   "metadata": {},
   "outputs": [
    {
     "name": "stdout",
     "output_type": "stream",
     "text": [
      "Enter a radius of circle: 0.5\n",
      "The area of circle having a radius of 0.5cm is 0.785sq-cm\n"
     ]
    }
   ],
   "source": [
    "rad = float(input('Enter a radius of circle: '))\n",
    "area = 3.14 * (rad ** 2)\n",
    "print(f'The area of circle having a radius of {rad}cm is {area}sq-cm')"
   ]
  },
  {
   "cell_type": "markdown",
   "metadata": {},
   "source": [
    "# 2_Check Number either positive, negative or zero"
   ]
  },
  {
   "cell_type": "code",
   "execution_count": 3,
   "metadata": {},
   "outputs": [
    {
     "name": "stdout",
     "output_type": "stream",
     "text": [
      "Enter any num: -1\n",
      "-1.0 is -ve num\n"
     ]
    }
   ],
   "source": [
    "num = float(input('Enter any num: '))\n",
    "if num < 0:\n",
    "    print(f'{num} is -ve num')\n",
    "elif num > 0:\n",
    "    print(f'{num} is +ve num')\n",
    "else:\n",
    "    print(f'{num} is zero num')\n",
    "    "
   ]
  },
  {
   "cell_type": "markdown",
   "metadata": {},
   "source": [
    "# 3_Divisibility Check of two numbers"
   ]
  },
  {
   "cell_type": "code",
   "execution_count": 10,
   "metadata": {},
   "outputs": [
    {
     "name": "stdout",
     "output_type": "stream",
     "text": [
      "Enter numerator int no: 7\n",
      "Enter denumerator int no: 2\n",
      "Number 7 is not Completely divisible by 2\n"
     ]
    }
   ],
   "source": [
    "num = int(input('Enter numerator int no: '))\n",
    "den = int(input('Enter denumerator int no: '))\n",
    "if num%den == 0:\n",
    "    print(f'Number {num} is Completely divisible by {den}')\n",
    "else:\n",
    "    print(f'Number {num} is not Completely divisible by {den}')"
   ]
  },
  {
   "cell_type": "markdown",
   "metadata": {},
   "source": [
    "# 4_Days Calculator"
   ]
  },
  {
   "cell_type": "code",
   "execution_count": 17,
   "metadata": {},
   "outputs": [
    {
     "name": "stdout",
     "output_type": "stream",
     "text": [
      "Enter a date in (dd/mm/yy) format: 12/12/2018\n",
      "Enter a date in (dd/mm/yy) format: 16/12/2018\n",
      "There are 4 days in between 12/12/2018 and 16/12/2018\n"
     ]
    }
   ],
   "source": [
    "date1 = input('Enter a date in (dd/mm/yy) format: ')\n",
    "date2 = input('Enter a date in (dd/mm/yy) format: ')\n",
    " \n",
    "days_d1 = (int(date1[6:]) * 365) + (int(date1[3:5])  * 30.42) + int(date1[:2]) \n",
    "days_d2 = (int(date2[6:]) * 365) +  (int(date2[3:5])  * 30.42) + int(date2[:2])\n",
    "\n",
    "day_all = int(max(days_d1, days_d2) - min(days_d1, days_d2))\n",
    "\n",
    "print(f'There are {day_all} days in between {date1} and {date2}')"
   ]
  },
  {
   "cell_type": "markdown",
   "metadata": {},
   "source": [
    "# 5_Calculate Volume of a sphere"
   ]
  },
  {
   "cell_type": "code",
   "execution_count": 25,
   "metadata": {},
   "outputs": [
    {
     "name": "stdout",
     "output_type": "stream",
     "text": [
      "Enter Radius of Sphere: 1\n",
      "Volume of the Sphere with Radius 1.0 is 4.19\n"
     ]
    }
   ],
   "source": [
    "rad = float(input('Enter Radius of Sphere: '))\n",
    "vol = (4/3) * 3.14 * (rad**3)\n",
    "print(f'Volume of the Sphere with Radius {rad} is {vol:.2f}')"
   ]
  },
  {
   "cell_type": "markdown",
   "metadata": {},
   "source": [
    "# 6_Copy string n times"
   ]
  },
  {
   "cell_type": "code",
   "execution_count": 19,
   "metadata": {},
   "outputs": [
    {
     "name": "stdout",
     "output_type": "stream",
     "text": [
      "Enter String: Hey!\n",
      "How many copies of String you need: 4\n",
      "4 Copies of Hey! are Hey!Hey!Hey!Hey!\n"
     ]
    }
   ],
   "source": [
    "text = input('Enter String: ')\n",
    "times = int(input('How many copies of String you need: '))\n",
    "print(f'{times} Copies of {text} are {text * times}')"
   ]
  },
  {
   "cell_type": "markdown",
   "metadata": {},
   "source": [
    "# 7_Check if number is Even or Odd"
   ]
  },
  {
   "cell_type": "code",
   "execution_count": 21,
   "metadata": {},
   "outputs": [
    {
     "name": "stdout",
     "output_type": "stream",
     "text": [
      "Enter num: 5\n",
      "5 is odd\n"
     ]
    }
   ],
   "source": [
    "num = int(input('Enter num: '))\n",
    "if num%2 == 0:\n",
    "     print(f'{num} is even')\n",
    "else:\n",
    "    print(f'{num} is odd')"
   ]
  },
  {
   "cell_type": "markdown",
   "metadata": {},
   "source": [
    "# 8_Vowel Tester"
   ]
  },
  {
   "cell_type": "code",
   "execution_count": 38,
   "metadata": {},
   "outputs": [
    {
     "name": "stdout",
     "output_type": "stream",
     "text": [
      "Enter character: A\n",
      "A is a vowel letter\n"
     ]
    }
   ],
   "source": [
    "ch = input('Enter character: ')\n",
    "char = ch.lower()\n",
    "if char in ['a', 'e', 'i', 'o', 'u']:\n",
    "    print(f'{ch} is a vowel letter')\n",
    "    "
   ]
  },
  {
   "cell_type": "markdown",
   "metadata": {},
   "source": [
    "# 9_Triangle area"
   ]
  },
  {
   "cell_type": "code",
   "execution_count": 40,
   "metadata": {},
   "outputs": [
    {
     "name": "stdout",
     "output_type": "stream",
     "text": [
      "Enter magnitude of Triangle base:4\n",
      "Enter magnitude of Triangle height:4\n",
      "Area of a Triangle with Height 4 and Base 4 is 8\n"
     ]
    }
   ],
   "source": [
    "b = int(input('Enter magnitude of Triangle base:'))\n",
    "h = int(input('Enter magnitude of Triangle height:'))\n",
    "area = (b*h) // 2\n",
    "print(f'Area of a Triangle with Height {h} and Base {b} is {area}')"
   ]
  },
  {
   "cell_type": "markdown",
   "metadata": {},
   "source": [
    "# 10_Calculate Interest"
   ]
  },
  {
   "cell_type": "code",
   "execution_count": 49,
   "metadata": {},
   "outputs": [
    {
     "name": "stdout",
     "output_type": "stream",
     "text": [
      "Please enter principal amount: 10000\n",
      "Please Enter Rate of interest in %: 10\n",
      "Enter number of years for investment: 5\n",
      "After 5.0 years your principal amount 10000.0 over an interest rate of 10.0 % will be 510000.0\n"
     ]
    }
   ],
   "source": [
    "amount = float(input('Please enter principal amount: '))\n",
    "rate = float(input('Please Enter Rate of interest in %: '))\n",
    "years = float(input('Enter number of years for investment: '))\n",
    "total = amount * (1 + (rate*years))\n",
    "print(f'After {years} years your principal amount {amount} over an interest rate of {rate} % will be {total}')"
   ]
  },
  {
   "cell_type": "markdown",
   "metadata": {},
   "source": [
    "# 11_Euclidean distance"
   ]
  },
  {
   "cell_type": "code",
   "execution_count": 53,
   "metadata": {},
   "outputs": [
    {
     "name": "stdout",
     "output_type": "stream",
     "text": [
      "Enter Co-ordinate for x1: 2\n",
      "Enter Co-ordinate for x2: 4\n",
      "Enter Co-ordinate for y1: 4\n",
      "Enter Co-ordinate for y2: 4\n",
      "Distance between points (2.0, 4.0) and (4.0, 4.0) is 2.0\n"
     ]
    }
   ],
   "source": [
    "import math\n",
    "x1 = float(input('Enter Co-ordinate for x1: '))\n",
    "x2 = float(input('Enter Co-ordinate for x2: '))\n",
    "y1 = float(input('Enter Co-ordinate for y1: '))\n",
    "y2 = float(input('Enter Co-ordinate for y2: '))\n",
    "x = (x2 - x1) * 2\n",
    "y = (y2 - y1) * 2\n",
    "dist = math.sqrt(x+y)\n",
    "\n",
    "print(f'Distance between points {(x1, y1)} and {(x2, y2)} is {dist}')"
   ]
  },
  {
   "cell_type": "markdown",
   "metadata": {},
   "source": [
    "# 12_Feet to Centimeter Converter"
   ]
  },
  {
   "cell_type": "code",
   "execution_count": 54,
   "metadata": {},
   "outputs": [
    {
     "name": "stdout",
     "output_type": "stream",
     "text": [
      "Enter Height in Feet: 5\n",
      "There are 152.4 cm in 5.0 ft\n"
     ]
    }
   ],
   "source": [
    "feet = float(input('Enter Height in Feet: '))\n",
    "print(f'There are {feet * 30.48} cm in {feet} ft')"
   ]
  },
  {
   "cell_type": "markdown",
   "metadata": {},
   "source": [
    "# 13_BMI Calculator"
   ]
  },
  {
   "cell_type": "code",
   "execution_count": 60,
   "metadata": {},
   "outputs": [
    {
     "name": "stdout",
     "output_type": "stream",
     "text": [
      "Enter Height in cm:180\n",
      "Enter Weight in kg:75\n",
      "Your BMI is 23.15\n"
     ]
    }
   ],
   "source": [
    "h = float(input('Enter Height in cm:'))\n",
    "w = float(input('Enter Weight in kg:'))\n",
    "bmi = w / ((h / 100) ** 2)\n",
    "print(f'Your BMI is {bmi:.2f}')"
   ]
  },
  {
   "cell_type": "markdown",
   "metadata": {},
   "source": [
    "# 14_Sum of n Positive Integers"
   ]
  },
  {
   "cell_type": "code",
   "execution_count": 62,
   "metadata": {},
   "outputs": [
    {
     "name": "stdout",
     "output_type": "stream",
     "text": [
      "Enter value of n: 5\n",
      "Sum of n Positive integers till 5 is 15\n"
     ]
    }
   ],
   "source": [
    "num = int(input('Enter value of n: '))\n",
    "print(f'Sum of n Positive integers till {num} is {sum(range(num+1))}')\n",
    "    "
   ]
  },
  {
   "cell_type": "markdown",
   "metadata": {},
   "source": [
    "# 15_Digits Sum of a Number"
   ]
  },
  {
   "cell_type": "code",
   "execution_count": 9,
   "metadata": {},
   "outputs": [
    {
     "name": "stdout",
     "output_type": "stream",
     "text": [
      "Enter a number: 15\n",
      "6\n"
     ]
    }
   ],
   "source": [
    "num = int(input('Enter a number: '))\n",
    "x = 0\n",
    "while num:\n",
    "    x += num % 10\n",
    "    num = num // 10\n",
    "    \n",
    "print('Sum is {x}')\n"
   ]
  },
  {
   "cell_type": "markdown",
   "metadata": {},
   "source": [
    "# 16_Decimal to Binary Converter"
   ]
  },
  {
   "cell_type": "code",
   "execution_count": 1,
   "metadata": {},
   "outputs": [
    {
     "name": "stdout",
     "output_type": "stream",
     "text": [
      "Enter a decimal number: 65\n",
      "1000001\n"
     ]
    }
   ],
   "source": [
    "dec = int(input('Enter a decimal number: '))\n",
    "bn = ''\n",
    "while dec:\n",
    "    no = dec % 2\n",
    "    bn += str(no)\n",
    "    dec = dec // 2\n",
    "\n",
    "print(bn[::-1])\n",
    "    "
   ]
  },
  {
   "cell_type": "markdown",
   "metadata": {},
   "source": [
    "# 17_Binary to Decimal Converter"
   ]
  },
  {
   "cell_type": "code",
   "execution_count": 2,
   "metadata": {},
   "outputs": [
    {
     "name": "stdout",
     "output_type": "stream",
     "text": [
      "Enter a binary number: 1000001\n",
      "65\n"
     ]
    }
   ],
   "source": [
    "bn = int(input('Enter a binary number: '))\n",
    "dec = 0\n",
    "i = 0\n",
    "while bn:\n",
    "    dec += (bn % 10) * (2 ** i)\n",
    "    bn = bn // 10\n",
    "    i +=1\n",
    "print(dec)"
   ]
  },
  {
   "cell_type": "markdown",
   "metadata": {},
   "source": [
    "# 18_Vowel and Consonants Counter"
   ]
  },
  {
   "cell_type": "code",
   "execution_count": 1,
   "metadata": {},
   "outputs": [
    {
     "name": "stdout",
     "output_type": "stream",
     "text": [
      "Enter text: QuickBrownFoxJumpsovertheDog\n",
      "Vowels: 9\n",
      "Consonants: 19\n"
     ]
    }
   ],
   "source": [
    "text = input('Enter text: ').lower()\n",
    "v = 0\n",
    "c = 0\n",
    "for i in range(len(text)):\n",
    "    if text[i] in ['a', 'e', 'i', 'o', 'u']:\n",
    "        v +=1\n",
    "    else:\n",
    "        c +=1\n",
    "print(f'Vowels: {v}\\nConsonants: {c}')\n",
    "\n",
    "\n"
   ]
  },
  {
   "cell_type": "markdown",
   "metadata": {},
   "source": [
    "# 19_Palindrome tester"
   ]
  },
  {
   "cell_type": "code",
   "execution_count": 29,
   "metadata": {},
   "outputs": [
    {
     "name": "stdout",
     "output_type": "stream",
     "text": [
      "Enter text: AHA\n",
      "Text \"AHA\" is Palidrome\n"
     ]
    }
   ],
   "source": [
    "text = input('Enter text: ')\n",
    "if text == text[::-1]:\n",
    "    print(f'Text \"{text}\" is Palidrome')\n",
    "else: \n",
    "    print(f'Text \"{text}\" is not Palidrome')\n",
    "    "
   ]
  },
  {
   "cell_type": "markdown",
   "metadata": {},
   "source": [
    "# 20_Count Alphabets, Numbers and Special Characters"
   ]
  },
  {
   "cell_type": "code",
   "execution_count": 3,
   "metadata": {},
   "outputs": [
    {
     "name": "stdout",
     "output_type": "stream",
     "text": [
      "Enter text: Python 3.2\n",
      "Numbers = 2\n",
      "Alphabets = 6\n",
      "Special Character = 1\n",
      "Space = 1\n"
     ]
    }
   ],
   "source": [
    "text = input('Enter text: ')\n",
    "dg = 0\n",
    "sc = 0\n",
    "sp = 0\n",
    "al = 0\n",
    "for x in range(len(text)):\n",
    "    if text[x].isdigit():\n",
    "        dg += 1\n",
    "    elif text[x].isalpha():\n",
    "        al += 1\n",
    "    elif text[x].isspace():\n",
    "        sp += 1\n",
    "    else:\n",
    "        sc += 1\n",
    "\n",
    "print(f'Numbers = {dg}\\nAlphabets = {al}\\nSpecial Character = {sc}\\nSpace = {sp}')\n",
    "        \n",
    "        "
   ]
  },
  {
   "cell_type": "markdown",
   "metadata": {},
   "source": [
    "# 21_Pattern1"
   ]
  },
  {
   "cell_type": "code",
   "execution_count": 14,
   "metadata": {},
   "outputs": [
    {
     "name": "stdout",
     "output_type": "stream",
     "text": [
      "\n",
      "*\n",
      "**\n",
      "***\n",
      "****\n",
      "*****\n",
      "****\n",
      "***\n",
      "**\n",
      "*\n"
     ]
    }
   ],
   "source": [
    "for r in range(6):\n",
    "    for c in range(r):\n",
    "        print('*', end='')\n",
    "    print()\n",
    "    \n",
    "for r in range(4):\n",
    "    for c in range(r, 4):\n",
    "        print('*', end='')\n",
    "    print()"
   ]
  },
  {
   "cell_type": "markdown",
   "metadata": {},
   "source": [
    "# 22_Pattern2"
   ]
  },
  {
   "cell_type": "code",
   "execution_count": 55,
   "metadata": {
    "scrolled": true
   },
   "outputs": [
    {
     "name": "stdout",
     "output_type": "stream",
     "text": [
      "\n",
      "1 \n",
      "1 2 \n",
      "1 2 3 \n",
      "1 2 3 4 \n",
      "1 2 3 4 5 \n",
      "1 2 3 4 \n",
      "1 2 3 \n",
      "1 2 \n",
      "1 \n"
     ]
    }
   ],
   "source": [
    "e = 5\n",
    "for r in range(6):\n",
    "    for c in range(r):\n",
    "        print(c+1, end=' ')\n",
    "    print()\n",
    "    \n",
    "for r in range(1, 5):\n",
    "    for c in range(1, e):\n",
    "        print(c, end=' ')\n",
    "    e -= 1\n",
    "    print()"
   ]
  },
  {
   "cell_type": "markdown",
   "metadata": {},
   "source": [
    "# 23_Pattern3"
   ]
  },
  {
   "cell_type": "code",
   "execution_count": 40,
   "metadata": {},
   "outputs": [
    {
     "name": "stdout",
     "output_type": "stream",
     "text": [
      "1 \n",
      "2 2 \n",
      "3 3 3 \n",
      "4 4 4 4 \n",
      "5 5 5 5 5 \n",
      "6 6 6 6 6 6 \n",
      "7 7 7 7 7 7 7 \n",
      "8 8 8 8 8 8 8 8 \n",
      "9 9 9 9 9 9 9 9 9 \n"
     ]
    }
   ],
   "source": [
    "for r in range(1,10):\n",
    "    for c in range(r):\n",
    "        print(r, end=' ')\n",
    "    print()"
   ]
  }
 ],
 "metadata": {
  "kernelspec": {
   "display_name": "Python 3",
   "language": "python",
   "name": "python3"
  },
  "language_info": {
   "codemirror_mode": {
    "name": "ipython",
    "version": 3
   },
   "file_extension": ".py",
   "mimetype": "text/x-python",
   "name": "python",
   "nbconvert_exporter": "python",
   "pygments_lexer": "ipython3",
   "version": "3.7.3"
  }
 },
 "nbformat": 4,
 "nbformat_minor": 2
}
